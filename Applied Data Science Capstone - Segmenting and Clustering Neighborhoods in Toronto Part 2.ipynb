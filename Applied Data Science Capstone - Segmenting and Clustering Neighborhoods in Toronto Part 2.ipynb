{
 "cells": [
  {
   "cell_type": "code",
   "execution_count": 2,
   "metadata": {},
   "outputs": [],
   "source": [
    "#this notebook will be used for the capstone project\n",
    "\n",
    "#first import pandas and numpy\n",
    "import numpy as np  # useful for many scientific computing in Python\n",
    "import pandas as pd # primary data structure library"
   ]
  },
  {
   "cell_type": "code",
   "execution_count": 1,
   "metadata": {},
   "outputs": [
    {
     "name": "stdout",
     "output_type": "stream",
     "text": [
      "Hello Capstone Project Course!\n"
     ]
    }
   ],
   "source": [
    "#Print the following the statement: Hello Capstone Project Course!\n",
    "print('Hello Capstone Project Course!')"
   ]
  },
  {
   "cell_type": "code",
   "execution_count": null,
   "metadata": {},
   "outputs": [],
   "source": [
    "#Read in the data & print the headers\n",
    "df_can = pd.read_html('https://en.wikipedia.org/wiki/List_of_postal_codes_of_Canada:_M')[0]\n",
    "df_can.head()"
   ]
  },
  {
   "cell_type": "code",
   "execution_count": null,
   "metadata": {},
   "outputs": [],
   "source": [
    "#clean the data:\n",
    "#   - ignore cells with Borough = \"Not assigned\"\n",
    "#   - if a cell has a borough but a Not assigned neighborhood, then the neighborhood will be the same as the borough\n",
    "df_can = df_can[df_can['Borough'] != 'Not assigned']\n",
    "df_can.head()"
   ]
  },
  {
   "cell_type": "code",
   "execution_count": null,
   "metadata": {},
   "outputs": [],
   "source": [
    "#use the .shape method to print the number of rows of your dataframe\n",
    "np.shape(df_can)"
   ]
  },
  {
   "cell_type": "code",
   "execution_count": null,
   "metadata": {},
   "outputs": [],
   "source": [
    "#use the csv file to get the geographical coordinates of each postal code\n",
    "df_geo = pd.read_csv('http://cocl.us/Geospatial_data', index_col=0)\n",
    "df_geo.head()"
   ]
  }
 ],
 "metadata": {
  "kernelspec": {
   "display_name": "Python 3.8.5 32-bit",
   "language": "python",
   "name": "python38532bitaf6dcbf5b7ff40f19468123def182567"
  },
  "language_info": {
   "codemirror_mode": {
    "name": "ipython",
    "version": 3
   },
   "file_extension": ".py",
   "mimetype": "text/x-python",
   "name": "python",
   "nbconvert_exporter": "python",
   "pygments_lexer": "ipython3",
   "version": "3.8.5"
  }
 },
 "nbformat": 4,
 "nbformat_minor": 4
}
